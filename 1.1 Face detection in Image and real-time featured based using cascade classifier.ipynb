{
 "cells": [
  {
   "cell_type": "code",
   "execution_count": 1,
   "metadata": {},
   "outputs": [
    {
     "name": "stdout",
     "output_type": "stream",
     "text": [
      "4.4.0\n"
     ]
    }
   ],
   "source": [
    "# 1. Face detection in image with Cascade Classifier\n",
    "\n",
    "import cv2\n",
    "# Check OpenCV Version\n",
    "print(cv2.__version__)\n",
    "\n",
    "from cv2 import CascadeClassifier\n",
    "\n",
    "# Load the image data\n",
    "pixels = cv2.imread(\"test1.jpg\")\n",
    "\n",
    "# Load the pre-trained cascade clssifier\n",
    "classifier = CascadeClassifier(\"haarcascade_frontalface_default.xml\")\n",
    "\n",
    "# Perform face detection \n",
    "bboxes = classifier.detectMultiScale(pixels, 1.05, 7)\n",
    "\n",
    "# print bound boxes for each image in the picture\n",
    "for box in bboxes:\n",
    "    x, y , width, height = box\n",
    "    x2, y2 = x + width, y + height\n",
    "    cv2.rectangle(pixels, (x,y),(x2,y2),(0, 0, 255), 1)\n",
    "# Show the image\n",
    "cv2.imshow(\"Face Detection\", pixels)\n",
    "\n",
    "# keep the window open until we press key\n",
    "cv2.waitKey(0)\n",
    "\n",
    "# close all window\n",
    "cv2.destroyAllWindows()\n",
    "\n",
    "\n"
   ]
  },
  {
   "cell_type": "code",
   "execution_count": 2,
   "metadata": {},
   "outputs": [],
   "source": [
    "# 2 Real Time Face detection with Cascade Classifier\n",
    "\n",
    "import cv2\n",
    "from cv2 import CascadeClassifier\n",
    "\n",
    "classifier = CascadeClassifier(\"haarcascade_frontalface_default.xml\")\n",
    "\n",
    "cap = cv2.VideoCapture(0)\n",
    "\n",
    "while(True):\n",
    "    \n",
    "    # Read the frame\n",
    "    _, image = cap.read()\n",
    "    \n",
    "    # Convert to Gray scale\n",
    "   # pixel = cv2.cvtColor(image, cv2.COLOR_BGR2GRAY)\n",
    "    \n",
    "    bboxes = classifier.detectMultiScale(image, 1.1, 6)\n",
    "    for box in bboxes:\n",
    "    \n",
    "        #extract\n",
    "        x, y, width, height = box           # box = [x,y,width,height]\n",
    "        x2, y2 = x + width, y + height\n",
    "    \n",
    "        # Draw a rectangle over the pixel\n",
    "        cv2.rectangle(image, (x, y), (x2, y2), (0,0,255), 1)\n",
    "\n",
    "    # Show the image\n",
    "    cv2.imshow(\"Face Detection\",image)\n",
    "        \n",
    "    # Stop if escape key is pressed\n",
    "    k = cv2.waitKey(30) & 0xff\n",
    "    if k==27:\n",
    "        break\n",
    "\n",
    "# Release the VideoCapture object\n",
    "cap.release()\n"
   ]
  },
  {
   "cell_type": "code",
   "execution_count": null,
   "metadata": {},
   "outputs": [],
   "source": []
  }
 ],
 "metadata": {
  "kernelspec": {
   "display_name": "Python 3",
   "language": "python",
   "name": "python3"
  },
  "language_info": {
   "codemirror_mode": {
    "name": "ipython",
    "version": 3
   },
   "file_extension": ".py",
   "mimetype": "text/x-python",
   "name": "python",
   "nbconvert_exporter": "python",
   "pygments_lexer": "ipython3",
   "version": "3.6.1"
  }
 },
 "nbformat": 4,
 "nbformat_minor": 4
}
